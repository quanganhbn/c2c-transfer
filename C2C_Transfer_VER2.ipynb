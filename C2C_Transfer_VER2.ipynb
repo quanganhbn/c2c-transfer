{
  "nbformat": 4,
  "nbformat_minor": 0,
  "metadata": {
    "colab": {
      "name": "C2C Transfer-VER2.ipynb",
      "provenance": [],
      "collapsed_sections": [],
      "include_colab_link": true
    },
    "kernelspec": {
      "name": "python3",
      "display_name": "Python 3"
    }
  },
  "cells": [
    {
      "cell_type": "markdown",
      "metadata": {
        "id": "view-in-github",
        "colab_type": "text"
      },
      "source": [
        "<a href=\"https://colab.research.google.com/github/quanganhbn/c2c-transfer/blob/master/C2C_Transfer_VER2.ipynb\" target=\"_parent\"><img src=\"https://colab.research.google.com/assets/colab-badge.svg\" alt=\"Open In Colab\"/></a>"
      ]
    },
    {
      "cell_type": "code",
      "metadata": {
        "id": "SwSWEDyM_3pf",
        "cellView": "form",
        "outputId": "366a72ef-a28f-4db6-d765-de508f68c8d1",
        "colab": {
          "base_uri": "https://localhost:8080/",
          "height": 34
        }
      },
      "source": [
        "#@markdown <h1>⬅ Bước 1: Run This Cell to  Mount Gdrive\n",
        "\n",
        "from google.colab import drive\n",
        "drive.mount('/content/drive')\n",
        "!curl https://rclone.org/install.sh | sudo bash\n",
        "!rclone config file\n",
        "!cp /content/drive/My\\ Drive/Config/rclone.conf /root/.config/rclone/\n",
        "!rclone config file\n",
        "from IPython.display import HTML, clear_output\n",
        "clear_output()\n",
        "print(\"Cài Đặt Thành Công\")"
      ],
      "execution_count": 4,
      "outputs": [
        {
          "output_type": "stream",
          "text": [
            "Cài Đặt Thành Công\n"
          ],
          "name": "stdout"
        }
      ]
    },
    {
      "cell_type": "markdown",
      "metadata": {
        "id": "u0R4Sb7toT-I"
      },
      "source": [
        "###**Check wheather it is working properly:**\n",
        "\n",
        "\n",
        "*   This will give list of cloud storage configured in rclone.conf\n"
      ]
    },
    {
      "cell_type": "code",
      "metadata": {
        "id": "nQo659P8A6PC",
        "outputId": "b865aa9d-57cf-4240-9ca5-92951df16527",
        "colab": {
          "base_uri": "https://localhost:8080/",
          "height": 68
        }
      },
      "source": [
        "!rclone listremotes"
      ],
      "execution_count": 5,
      "outputs": [
        {
          "output_type": "stream",
          "text": [
            "gdrive:\n",
            "ondrive:\n",
            "onedrive2:\n"
          ],
          "name": "stdout"
        }
      ]
    },
    {
      "cell_type": "code",
      "metadata": {
        "id": "kBDCPTpZmCXF",
        "outputId": "4708b035-12bf-4cfb-f779-89d73b2d2800",
        "colab": {
          "base_uri": "https://localhost:8080/",
          "height": 68
        }
      },
      "source": [
        "#List directories in remote:\n",
        "!rclone lsd onedrive2:"
      ],
      "execution_count": 6,
      "outputs": [
        {
          "output_type": "stream",
          "text": [
            "          -1 2020-10-23 17:52:04         0 G1\n",
            "          -1 2020-10-23 17:51:51         2 K4\n",
            "          -1 2020-10-23 17:51:59         0 K5\n"
          ],
          "name": "stdout"
        }
      ]
    },
    {
      "cell_type": "markdown",
      "metadata": {
        "id": "VIa8y8EOvde5"
      },
      "source": [
        "###**COPY data from one clud to another**"
      ]
    },
    {
      "cell_type": "code",
      "metadata": {
        "id": "yUaBZ1m3A_dU"
      },
      "source": [
        "#@markdown <h1>⬅ Bước #: COPY\n",
        "# rclone copy\n",
        "!rclone copy gdrive:'001. ABEAKA K4' onedrive2:'K4' --transfers=32 --checkers=32 --stats=5s --stats-one-line --stats-log-level NOTICE"
      ],
      "execution_count": null,
      "outputs": []
    },
    {
      "cell_type": "markdown",
      "metadata": {
        "id": "JMJ4T9hsrvTp"
      },
      "source": [
        "###**Sync data from one clud to another**"
      ]
    },
    {
      "cell_type": "code",
      "metadata": {
        "id": "3uEWSrgqs1zC",
        "outputId": "8507c570-69a0-455d-8321-90473a4708dd",
        "colab": {
          "base_uri": "https://localhost:8080/",
          "height": 199
        }
      },
      "source": [
        "#@markdown <h1>⬅ Bước #: SYNC\n",
        "# rclone sync\n",
        "#!rclone sync gdrive: dropbox: --transfers=32 --checkers=32 --stats=10s --stats-one-line --stats-log-level NOTICE\n",
        "!rclone sync gdrive:'001. ABEAKA K4' onedrive2:'K4' --transfers=32 --checkers=32 --stats=10s --stats-one-line --stats-log-level NOTICE"
      ],
      "execution_count": null,
      "outputs": [
        {
          "output_type": "stream",
          "text": [
            "2020/10/23 18:36:19 NOTICE: ABEKA-K4-Arithmetic/36A.mp4: Duplicate object found in source - ignoring\n",
            "2020/10/23 18:36:28 NOTICE:    57.405M / 329.686 GBytes, 0%, 6.761 MBytes/s, ETA 13h52m8s (xfr#0/1436)\n",
            "2020/10/23 18:36:38 NOTICE:   243.546M / 329.686 GBytes, 0%, 13.173 MBytes/s, ETA 7h6m50s (xfr#0/1436)\n",
            "2020/10/23 18:36:48 NOTICE:   974.581M / 329.686 GBytes, 0%, 34.209 MBytes/s, ETA 2h44m (xfr#0/1436)\n",
            "2020/10/23 18:36:58 NOTICE:     1.828G / 329.686 GBytes, 1%, 48.624 MBytes/s, ETA 1h55m4s (xfr#0/1436)\n",
            "2020/10/23 18:37:08 NOTICE:     2.713G / 329.686 GBytes, 1%, 57.298 MBytes/s, ETA 1h37m23s (xfr#0/1436)\n",
            "2020/10/23 18:37:18 NOTICE:     3.576G / 329.686 GBytes, 1%, 62.602 MBytes/s, ETA 1h28m54s (xfr#0/1436)\n",
            "2020/10/23 18:37:28 NOTICE:     4.477G / 329.686 GBytes, 1%, 66.939 MBytes/s, ETA 1h22m54s (xfr#0/1436)\n",
            "2020/10/23 18:37:38 NOTICE:     5.425G / 329.686 GBytes, 2%, 70.779 MBytes/s, ETA 1h18m11s (xfr#0/1436)\n"
          ],
          "name": "stdout"
        }
      ]
    },
    {
      "cell_type": "markdown",
      "metadata": {
        "id": "O5A5x7d1VSTb"
      },
      "source": [
        "###**Example to download direct links to cloud storage**"
      ]
    },
    {
      "cell_type": "code",
      "metadata": {
        "id": "l57OoLysVRy5"
      },
      "source": [
        "# rclone copyurl\n",
        "!rclone copyurl 'https://cdn-xxx.com/xxx/url/hits.txt' gdrive:'Download/hits.txt' -v"
      ],
      "execution_count": null,
      "outputs": []
    },
    {
      "cell_type": "markdown",
      "metadata": {
        "id": "PPCE_B0AWFve"
      },
      "source": [
        "Example to move data from google drive to shared drive"
      ]
    },
    {
      "cell_type": "code",
      "metadata": {
        "id": "mXg425ZoWFDf"
      },
      "source": [
        "#rclone move\n",
        "!rclone move ccsfdrive:asp dropbox:asp --transfers=32 --checkers=32 --stats=60s --stats-one-line --stats-log-level NOTICE"
      ],
      "execution_count": null,
      "outputs": []
    },
    {
      "cell_type": "markdown",
      "metadata": {
        "id": "cNSLOBEhsDTa"
      },
      "source": [
        "**Some useful rclone commands:**\n",
        "\n",
        "* rclone config - Enter an interactive configuration session.\n",
        "* rclone copy - Copy files from source to dest, skipping already copied.\n",
        "* rclone sync - Make source and dest identical, modifying destination only.\n",
        "* rclone move - Move files from source to dest.\n",
        "* rclone delete - Remove the contents of path.\n",
        "* rclone purge - Remove the path and all of its contents.\n",
        "* rclone mkdir - Make the path if it doesn’t already exist.\n",
        "* rclone rmdir - Remove the path.\n",
        "* rclone rmdirs - Remove any empty directories under the path.\n",
        "* rclone check - Check if the files in the source and destination match.\n",
        "* rclone ls - List all the objects in the path with size and path.\n",
        "* rclone lsd - List all directories/containers/buckets in the path.\n",
        "* rclone lsl - List all the objects in the path with size, modification time and path.\n",
        "* rclone about - Get quota information from the remote.\n",
        "\n",
        "For more command info visit: https://rclone.org/docs/"
      ]
    }
  ]
}